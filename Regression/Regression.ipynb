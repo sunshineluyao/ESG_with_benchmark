{
  "nbformat": 4,
  "nbformat_minor": 0,
  "metadata": {
    "colab": {
      "name": "Regression.ipynb",
      "provenance": [],
      "private_outputs": true,
      "authorship_tag": "ABX9TyPPs0QbOVtB5H3xTXOhfXAe",
      "include_colab_link": true
    },
    "kernelspec": {
      "name": "python3",
      "display_name": "Python 3"
    }
  },
  "cells": [
    {
      "cell_type": "markdown",
      "metadata": {
        "id": "view-in-github",
        "colab_type": "text"
      },
      "source": [
        "<a href=\"https://colab.research.google.com/github/sunshineluyao/ESG_with_benchmark/blob/main/Regression/Regression.ipynb\" target=\"_parent\"><img src=\"https://colab.research.google.com/assets/colab-badge.svg\" alt=\"Open In Colab\"/></a>"
      ]
    },
    {
      "cell_type": "code",
      "metadata": {
        "id": "6WYGV4Lv5jvv"
      },
      "source": [
        "### import packages\n",
        "import pandas as pd\n",
        "import numpy as np\n",
        "### show all columns\n",
        "pd.set_option('display.max_columns', None)\n",
        "pd.set_option('display.max_rows', None)"
      ],
      "execution_count": null,
      "outputs": []
    },
    {
      "cell_type": "code",
      "metadata": {
        "id": "tvf0ks1P55Rr"
      },
      "source": [
        "## Import data\n",
        "df_Newcases= pd.read_csv(\"https://raw.githubusercontent.com/sunshineluyao/ESG_with_benchmark/main/Regression/Pandemic_USA.csv\")\n",
        "df_Newcases.head()"
      ],
      "execution_count": null,
      "outputs": []
    },
    {
      "cell_type": "code",
      "metadata": {
        "id": "hLPTtlab6LPB"
      },
      "source": [
        "df_Newcases['date']=pd.to_datetime(df_Newcases['Unnamed: 0'])"
      ],
      "execution_count": null,
      "outputs": []
    },
    {
      "cell_type": "code",
      "metadata": {
        "id": "CAMoZrrW6P4U"
      },
      "source": [
        "df_Newcases=df_Newcases[['iso_code','new_cases','date']]\n",
        "df_Newcases.head()"
      ],
      "execution_count": null,
      "outputs": []
    },
    {
      "cell_type": "code",
      "metadata": {
        "id": "eo--vFZF61ki"
      },
      "source": [
        "#extract month\n",
        "df_Newcases['month'] = pd.DatetimeIndex(df_Newcases['date']).month\n",
        "df_Newcases.head()"
      ],
      "execution_count": null,
      "outputs": []
    },
    {
      "cell_type": "code",
      "metadata": {
        "id": "IibO5Rh97INa"
      },
      "source": [
        "df_Newcases_Monthly=df_Newcases.groupby('month',group_keys=True, as_index=True).sum('newcases')\n",
        "df_Newcases_Monthly"
      ],
      "execution_count": null,
      "outputs": []
    },
    {
      "cell_type": "code",
      "metadata": {
        "id": "wm0hy8Yz7iqI"
      },
      "source": [
        "df_Newcases_Monthly.index.name=None\n",
        "df_Newcases_Monthly.head()"
      ],
      "execution_count": null,
      "outputs": []
    },
    {
      "cell_type": "code",
      "metadata": {
        "id": "Wyy4aBiG9T2u"
      },
      "source": [
        "df_Newcases_Monthly['Month']=['Jan','Feb','Mar','Apr','May','Jun','Jul','Aug','Sep']\n",
        "df_Newcases_Monthly.head()"
      ],
      "execution_count": null,
      "outputs": []
    },
    {
      "cell_type": "code",
      "metadata": {
        "id": "ESKK-jeR9m3f"
      },
      "source": [
        "df_Newcases_Monthly.to_csv('Pandemic_Month.csv')"
      ],
      "execution_count": null,
      "outputs": []
    },
    {
      "cell_type": "code",
      "metadata": {
        "id": "QskTmEp294Ba"
      },
      "source": [
        ""
      ],
      "execution_count": null,
      "outputs": []
    }
  ]
}