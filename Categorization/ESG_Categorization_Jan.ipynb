{
  "nbformat": 4,
  "nbformat_minor": 0,
  "metadata": {
    "colab": {
      "name": "ESG_Categorization_Jan.ipynb",
      "provenance": [],
      "authorship_tag": "ABX9TyPyyio0hmmOY8xLSk0Rvmoz",
      "include_colab_link": true
    },
    "kernelspec": {
      "name": "python3",
      "display_name": "Python 3"
    }
  },
  "cells": [
    {
      "cell_type": "markdown",
      "metadata": {
        "id": "view-in-github",
        "colab_type": "text"
      },
      "source": [
        "<a href=\"https://colab.research.google.com/github/sunshineluyao/ESG_with_benchmark/blob/main/Categorization/ESG_Categorization_Jan.ipynb\" target=\"_parent\"><img src=\"https://colab.research.google.com/assets/colab-badge.svg\" alt=\"Open In Colab\"/></a>"
      ]
    },
    {
      "cell_type": "code",
      "metadata": {
        "id": "GLqcXDxD2YVY"
      },
      "source": [
        "### import packages\n",
        "import pandas as pd\n",
        "import numpy as np\n",
        "### show all columns\n",
        "pd.set_option('display.max_columns', None)\n",
        "pd.set_option('display.max_rows', None)"
      ],
      "execution_count": null,
      "outputs": []
    },
    {
      "cell_type": "code",
      "metadata": {
        "id": "v2vUVC6S3J26"
      },
      "source": [
        "### Import data\n",
        "df_Jan= pd.read_csv(\"https://raw.githubusercontent.com/sunshineluyao/ESG_with_benchmark/main/rawdata/SP1500_Jan.csv\")\n",
        "df_Jan.head()"
      ],
      "execution_count": null,
      "outputs": []
    },
    {
      "cell_type": "code",
      "metadata": {
        "id": "cd4cEIfV3oDN"
      },
      "source": [
        "df_Jan=df_Jan.dropna()"
      ],
      "execution_count": null,
      "outputs": []
    },
    {
      "cell_type": "code",
      "metadata": {
        "id": "xrBBzFVu4QS4"
      },
      "source": [
        "df_Jan=df_Jan.set_index('Symbol',drop=True)\n",
        "df_Jan.head()"
      ],
      "execution_count": null,
      "outputs": []
    },
    {
      "cell_type": "code",
      "metadata": {
        "id": "7ymqpK1r4Taz"
      },
      "source": [
        "df_Jan.index.name=None\n",
        "df_Jan.head()"
      ],
      "execution_count": null,
      "outputs": []
    },
    {
      "cell_type": "code",
      "metadata": {
        "id": "Oxy7JzOo5YBO"
      },
      "source": [
        "### formating data so that it can be calculated\n",
        "df_Jan[['Size','Common Shares Outstdg','MktVal Co']]=df_Jan[['Size','Common Shares Outstdg','MktVal Co']].apply(lambda x: x.str.replace(',', ''), axis=1)\n",
        "df_Jan.head()"
      ],
      "execution_count": null,
      "outputs": []
    },
    {
      "cell_type": "code",
      "metadata": {
        "id": "2arCcIxi5ej4"
      },
      "source": [
        "df_Jan[['Size', 'Book Value Per Shr Tangble','Common Shares Outstdg','MktVal Co','Momentum']] = df_Jan[['Size', 'Book Value Per Shr Tangble','Common Shares Outstdg','MktVal Co','Momentum']].astype('float')\n",
        "df_Jan.head()"
      ],
      "execution_count": null,
      "outputs": []
    },
    {
      "cell_type": "code",
      "metadata": {
        "id": "3I5mCzOW4jS9"
      },
      "source": [
        "### Generate the new variable:BM_Ratio\n",
        "df_Jan['BM_Ratio'] = df_Jan['Book Value Per Shr Tangble']*df_Jan['Common Shares Outstdg']/df_Jan['MktVal Co']\n",
        "df_Jan.head()"
      ],
      "execution_count": null,
      "outputs": []
    },
    {
      "cell_type": "code",
      "metadata": {
        "id": "g5srN8-K44FQ"
      },
      "source": [
        "### Generate the categories by quintile cut and ESG rating\n",
        "df_Jan['Size_Index']=pd.qcut(df_Jan['Size'],5,labels=np.arange(1,6,1))\n",
        "df_Jan['Momentum_Index']=pd.qcut(df_Jan['Momentum'],5,labels=np.arange(1,6,1))\n",
        "df_Jan['BM_Ratio_Index']=pd.qcut(df_Jan['BM_Ratio'],5,labels=np.arange(1,6,1))\n",
        "df_Jan['ESG_Index']=np.where(df_Jan['MSCI ESG Rtg Overall Company Rating'].isin(['A','AA','AAA']), 'High','Low')\n",
        "df_Jan.head()"
      ],
      "execution_count": null,
      "outputs": []
    },
    {
      "cell_type": "code",
      "metadata": {
        "id": "WfxQD-CB8Ith"
      },
      "source": [
        "df_Jan_Overview=df_Jan[['Size_Index','Momentum_Index','BM_Ratio_Index','ESG_Index','Monthly Return']]"
      ],
      "execution_count": null,
      "outputs": []
    },
    {
      "cell_type": "code",
      "metadata": {
        "id": "xhiWn-JWkb1f"
      },
      "source": [
        "df_Jan_Overview_Benchmark = df_Jan_Overview.groupby(by=['Size_Index','Momentum_Index','BM_Ratio_Index',],group_keys=True,sort=True,as_index=False).mean('Monthly Return')"
      ],
      "execution_count": null,
      "outputs": []
    },
    {
      "cell_type": "code",
      "metadata": {
        "id": "zyb8Ubrek63b"
      },
      "source": [
        "df_Jan_Overview_Benchmark.head()"
      ],
      "execution_count": null,
      "outputs": []
    },
    {
      "cell_type": "code",
      "metadata": {
        "id": "J48ypDJT8QYK"
      },
      "source": [
        "df_Jan_Overview_ESG_High = df_Jan_Overview[df_Jan_Overview['ESG_Index']=='High']\n",
        "df_Jan_Overview_ESG_High.head()"
      ],
      "execution_count": null,
      "outputs": []
    },
    {
      "cell_type": "code",
      "metadata": {
        "id": "FOfSpG8O_KQM"
      },
      "source": [
        "df_Jan_Overveiw_ESG_High_Mean = df_Jan_Overview_ESG_High.groupby(by=['Size_Index','Momentum_Index','BM_Ratio_Index',],group_keys=True,sort=True,as_index=False).mean('Monthly Return')"
      ],
      "execution_count": null,
      "outputs": []
    },
    {
      "cell_type": "code",
      "metadata": {
        "id": "upWEfRMPoxi0"
      },
      "source": [
        "df_Jan_Overveiw_ESG_High_Mean.head()"
      ],
      "execution_count": null,
      "outputs": []
    },
    {
      "cell_type": "code",
      "metadata": {
        "id": "FrzWgwooo2c-"
      },
      "source": [
        "df_Jan_Overview_Benchmark['ESG_High_Return']= df_Jan_Overveiw_ESG_High_Mean['Monthly Return']\n",
        "df_Jan_Overview_Benchmark.head()"
      ],
      "execution_count": null,
      "outputs": []
    },
    {
      "cell_type": "code",
      "metadata": {
        "id": "4HucW74rpUW8"
      },
      "source": [
        "df_Jan_Overview_Benchmark['Abnormal Return']=df_Jan_Overview_Benchmark['ESG_High_Return']-df_Jan_Overview_Benchmark['Monthly Return']\n",
        "df_Jan_Overview_Benchmark.head()"
      ],
      "execution_count": null,
      "outputs": []
    },
    {
      "cell_type": "code",
      "metadata": {
        "id": "ekN0ffDkrOhd"
      },
      "source": [
        "df_Jan_Overview_Benchmark['Month']='Jan'\n",
        "df_Jan_Overview_Benchmark.head()"
      ],
      "execution_count": null,
      "outputs": []
    },
    {
      "cell_type": "code",
      "metadata": {
        "id": "W4xRi4ispwsx"
      },
      "source": [
        "import plotly.express as px"
      ],
      "execution_count": null,
      "outputs": []
    },
    {
      "cell_type": "code",
      "metadata": {
        "id": "AuLnuzaiqXZ1"
      },
      "source": [
        "fig = px.box(df_Jan_Overview_Benchmark, y=\"Abnormal Return\",\n",
        "                   hover_data=df_Jan_Overview_Benchmark.columns)\n",
        "fig.show()"
      ],
      "execution_count": null,
      "outputs": []
    },
    {
      "cell_type": "code",
      "metadata": {
        "id": "Q7PPLw48q0Km"
      },
      "source": [
        "df_Jan_Overview_Benchmark.to_csv('Overview_Jan.csv')"
      ],
      "execution_count": null,
      "outputs": []
    },
    {
      "cell_type": "code",
      "metadata": {
        "id": "oQCigWaNrm14"
      },
      "source": [
        ""
      ],
      "execution_count": null,
      "outputs": []
    }
  ]
}